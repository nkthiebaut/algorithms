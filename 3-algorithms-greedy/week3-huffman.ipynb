{
 "cells": [
  {
   "cell_type": "markdown",
   "metadata": {
    "colab_type": "text",
    "id": "U4UFXWcuG2XH"
   },
   "source": [
    "#  Exercise 1: 1) compute maximum length of a codeword with Huffman coding\n",
    "\n",
    "https://www.coursera.org/learn/algorithms-greedy/exam/u4WGg/programming-assignment-3"
   ]
  },
  {
   "cell_type": "code",
   "execution_count": 23,
   "metadata": {},
   "outputs": [],
   "source": [
    "import numpy as np\n",
    "\n",
    "uploaded_vertices = open('./huffman.txt', 'r')\n",
    "data = uploaded_vertices.read()\n",
    "\n",
    "weights = [int(x) for x in data.split('\\n')[1:-1]]\n",
    "\n",
    "n_merges = [0] * len(weights)\n",
    "\n",
    "def find_min_pair(l):\n",
    "    first_min = np.inf\n",
    "    second_min = np.inf\n",
    "    first_min_idx = None\n",
    "    for i, v in enumerate(l):\n",
    "        if v < first_min:\n",
    "            second_min = first_min\n",
    "            second_min_idx = first_min_idx\n",
    "            first_min = v\n",
    "            first_min_idx = i\n",
    "        elif v < second_min:\n",
    "            second_min = v\n",
    "            second_min_idx = i\n",
    "    return first_min_idx, second_min_idx\n",
    "        \n",
    "    \n",
    "while len(weights) > 1:\n",
    "    kept_idx, remove_idx = find_min_pair(weights)\n",
    "    weights[kept_idx] += weights[remove_idx]\n",
    "    n_merges[kept_idx] += 1\n",
    "    n_merges[remove_idx] += 1\n",
    "    weights.pop(remove_idx)"
   ]
  },
  {
   "cell_type": "code",
   "execution_count": 24,
   "metadata": {},
   "outputs": [
    {
     "data": {
      "text/plain": [
       "16"
      ]
     },
     "execution_count": 24,
     "metadata": {},
     "output_type": "execute_result"
    }
   ],
   "source": [
    "max(n_merges)"
   ]
  },
  {
   "cell_type": "code",
   "execution_count": 25,
   "metadata": {},
   "outputs": [
    {
     "data": {
      "text/plain": [
       "0"
      ]
     },
     "execution_count": 25,
     "metadata": {},
     "output_type": "execute_result"
    }
   ],
   "source": [
    "min(n_merges)"
   ]
  },
  {
   "cell_type": "code",
   "execution_count": null,
   "metadata": {},
   "outputs": [],
   "source": [
    "n_merges"
   ]
  }
 ],
 "metadata": {
  "colab": {
   "collapsed_sections": [],
   "name": "Algorithms - Course 3 - Week 2 - Clustering.ipynb",
   "provenance": [
    {
     "file_id": "1RTTUnbUhP__AGHQrexQGHsZWL7ak_3Ls",
     "timestamp": 1554650830866
    }
   ],
   "version": "0.3.2"
  },
  "kernelspec": {
   "display_name": "Python 3",
   "language": "python",
   "name": "python3"
  },
  "language_info": {
   "codemirror_mode": {
    "name": "ipython",
    "version": 3
   },
   "file_extension": ".py",
   "mimetype": "text/x-python",
   "name": "python",
   "nbconvert_exporter": "python",
   "pygments_lexer": "ipython3",
   "version": "3.6.8"
  }
 },
 "nbformat": 4,
 "nbformat_minor": 1
}
