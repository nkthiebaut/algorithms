{
 "cells": [
  {
   "cell_type": "markdown",
   "metadata": {
    "colab_type": "text",
    "id": "U4UFXWcuG2XH"
   },
   "source": [
    "#  Exercise 1: Huffman coding\n",
    "\n",
    "https://www.coursera.org/learn/algorithms-greedy/exam/u4WGg/programming-assignment-3"
   ]
  },
  {
   "cell_type": "code",
   "execution_count": 262,
   "metadata": {},
   "outputs": [],
   "source": [
    "class Node(object):\n",
    "    def __init__(self, weight=0, left_child=None, right_child=None):\n",
    "        if left_child and right_child:\n",
    "            left_child.parent = right_child.parent = self\n",
    "            left_child.is_right = False\n",
    "            right_child.is_right = True\n",
    "            self.left_child = left_child\n",
    "            self.right_child = right_child\n",
    "            self.weight = left_child.weight + right_child.weight\n",
    "        else: \n",
    "            self.weight = weight\n",
    "\n",
    "    def is_root(self):\n",
    "        return not hasattr(self, 'parent')\n",
    "    \n",
    "    def is_leaf(self):\n",
    "        return not hasattr(self, 'left_child')\n",
    "    \n",
    "    def __str__(self):\n",
    "        if self.is_root():\n",
    "            return ''\n",
    "        return str(int(self.is_right)) + self.parent.__str__()\n",
    "    \n",
    "    def get_leaves(self):\n",
    "        leaves = []\n",
    "        def explore_tree(node, leaves_list):\n",
    "            if node.is_leaf():\n",
    "                leaves_list.append(node)\n",
    "            else:\n",
    "                explore_tree(node.left_child, leaves_list)\n",
    "                explore_tree(node.right_child, leaves_list)\n",
    "        explore_tree(self, leaves)\n",
    "        return leaves"
   ]
  },
  {
   "cell_type": "code",
   "execution_count": 264,
   "metadata": {},
   "outputs": [],
   "source": [
    "import numpy as np\n",
    "\n",
    "uploaded_vertices = open('./huffman.txt', 'r')\n",
    "data = uploaded_vertices.read()\n",
    "\n",
    "weights = [int(x) for x in data.split('\\n')[1:-1]]\n",
    "\n",
    "# Test case\n",
    "# weights = [5, 25, 32, 20, 18]\n",
    "\n",
    "def find_min_pair(l):\n",
    "    first_min = np.inf\n",
    "    second_min = np.inf\n",
    "    first_min_idx = None\n",
    "    for i, v in enumerate(l):\n",
    "        if v < first_min:\n",
    "            second_min = first_min\n",
    "            second_min_idx = first_min_idx\n",
    "            first_min = v\n",
    "            first_min_idx = i\n",
    "        elif v < second_min:\n",
    "            second_min = v\n",
    "            second_min_idx = i\n",
    "    return first_min_idx, second_min_idx\n",
    "        \n",
    "\n",
    "trees = [Node(weight=w) for w in weights]\n",
    "\n",
    "while len(trees) > 1:\n",
    "    min_idx, second_min_idx = find_min_pair(weights)\n",
    "    new_tree = Node(left_child=trees[min_idx], right_child=trees[second_min_idx]) \n",
    "    trees.pop(max(min_idx, second_min_idx))\n",
    "    trees.pop(min(min_idx, second_min_idx))\n",
    "    trees.append(new_tree)\n",
    "    weights = [t.weight for t in trees]"
   ]
  },
  {
   "cell_type": "code",
   "execution_count": 265,
   "metadata": {},
   "outputs": [],
   "source": [
    "encodings = list(map(str, trees[0].get_leaves()))"
   ]
  },
  {
   "cell_type": "code",
   "execution_count": 266,
   "metadata": {},
   "outputs": [
    {
     "data": {
      "text/plain": [
       "19"
      ]
     },
     "execution_count": 266,
     "metadata": {},
     "output_type": "execute_result"
    }
   ],
   "source": [
    "# 1) compute maximum length of a codeword with Huffman coding\n",
    "max(map(len, encodings))"
   ]
  },
  {
   "cell_type": "code",
   "execution_count": 267,
   "metadata": {},
   "outputs": [
    {
     "data": {
      "text/plain": [
       "9"
      ]
     },
     "execution_count": 267,
     "metadata": {},
     "output_type": "execute_result"
    }
   ],
   "source": [
    "# 2) compute minimum length of a codeword with Huffman coding\n",
    "min(map(len, encodings))"
   ]
  },
  {
   "cell_type": "markdown",
   "metadata": {},
   "source": [
    "# Exercise 2: DP algorithm for finding the maximum-weight independent set of a path graph"
   ]
  },
  {
   "cell_type": "code",
   "execution_count": 154,
   "metadata": {},
   "outputs": [],
   "source": [
    "data = open('./mwis.txt', 'r').read()\n",
    "\n",
    "weights = [int(x) for x in data.split('\\n')[1:-1]]\n",
    "\n",
    "# Test cases\n",
    "# weights = [1, 4, 5, 4]\n",
    "# weights = [280, 618, 762, 908, 409, 34, 59, 277, 246, 779]\n",
    "# weights = [460, 250, 730, 63, 379, 638, 122, 435, 705, 84]\n",
    "\n",
    "question_mask = [1, 2, 3, 4, 17, 117, 517, 997]\n",
    "\n",
    "n = len(weights)"
   ]
  },
  {
   "cell_type": "code",
   "execution_count": 155,
   "metadata": {},
   "outputs": [
    {
     "name": "stdout",
     "output_type": "stream",
     "text": [
      "Max sum=2948442421\n"
     ]
    }
   ],
   "source": [
    "# Find the sequence of optimal solutions\n",
    "a = [0, weights[0]]\n",
    "for i in range(2, n):\n",
    "    a.append(max(a[i-1], a[i-2]+weights[i-1]))\n",
    "\n",
    "print('Max sum={}'.format(max(a)))"
   ]
  },
  {
   "cell_type": "code",
   "execution_count": 156,
   "metadata": {},
   "outputs": [],
   "source": [
    "# Reconstruct solution from accumulated weights\n",
    "mwis = []\n",
    "\n",
    "i = n - 1  \n",
    "while i > 0:\n",
    "    if a[i-1] >= a[i-2] + weights[i-1]:\n",
    "        i -= 1\n",
    "    else:\n",
    "        mwis.append(i-1)\n",
    "        i -= 2\n",
    "\n",
    "mwis = [1 if i in mwis else 0 for i in range(n)]\n",
    "# print(mwis)"
   ]
  },
  {
   "cell_type": "code",
   "execution_count": 157,
   "metadata": {},
   "outputs": [
    {
     "name": "stdout",
     "output_type": "stream",
     "text": [
      "10100110\n"
     ]
    }
   ],
   "source": [
    "answer = ''.join(str(mwis[i-1]) for i in question_mask)\n",
    "print(answer)"
   ]
  }
 ],
 "metadata": {
  "colab": {
   "collapsed_sections": [],
   "name": "Algorithms - Course 3 - Week 2 - Clustering.ipynb",
   "provenance": [
    {
     "file_id": "1RTTUnbUhP__AGHQrexQGHsZWL7ak_3Ls",
     "timestamp": 1554650830866
    }
   ],
   "version": "0.3.2"
  },
  "kernelspec": {
   "display_name": "Python 3",
   "language": "python",
   "name": "python3"
  },
  "language_info": {
   "codemirror_mode": {
    "name": "ipython",
    "version": 3
   },
   "file_extension": ".py",
   "mimetype": "text/x-python",
   "name": "python",
   "nbconvert_exporter": "python",
   "pygments_lexer": "ipython3",
   "version": "3.6.5"
  }
 },
 "nbformat": 4,
 "nbformat_minor": 1
}
