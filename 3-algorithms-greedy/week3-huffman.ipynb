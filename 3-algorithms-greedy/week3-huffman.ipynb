{
 "cells": [
  {
   "cell_type": "markdown",
   "metadata": {
    "colab_type": "text",
    "id": "U4UFXWcuG2XH"
   },
   "source": [
    "#  Exercise 1: 1) compute maximum length of a codeword with Huffman coding\n",
    "\n",
    "https://www.coursera.org/learn/algorithms-greedy/exam/u4WGg/programming-assignment-3"
   ]
  },
  {
   "cell_type": "code",
   "execution_count": 12,
   "metadata": {},
   "outputs": [],
   "source": [
    "uploaded_vertices = open('/Users/nicolas/huffman.txt', 'r')\n",
    "data = uploaded_vertices.read()\n",
    "\n",
    "weights = [int(x) for x in data.split('\\n')[1:-1]]"
   ]
  },
  {
   "cell_type": "code",
   "execution_count": null,
   "metadata": {},
   "outputs": [],
   "source": []
  },
  {
   "cell_type": "code",
   "execution_count": 49,
   "metadata": {
    "colab": {
     "base_uri": "https://localhost:8080/",
     "height": 204
    },
    "colab_type": "code",
    "executionInfo": {
     "elapsed": 14847,
     "status": "ok",
     "timestamp": 1554830106853,
     "user": {
      "displayName": "Nicolas Thiébaut",
      "photoUrl": "",
      "userId": "12039374058333245636"
     },
     "user_tz": -120
    },
    "id": "6cBsblQtCXV3",
    "outputId": "2272e287-d8ce-4e52-f9e6-fee91400654f"
   },
   "outputs": [
    {
     "data": {
      "text/html": [
       "<div>\n",
       "<style scoped>\n",
       "    .dataframe tbody tr th:only-of-type {\n",
       "        vertical-align: middle;\n",
       "    }\n",
       "\n",
       "    .dataframe tbody tr th {\n",
       "        vertical-align: top;\n",
       "    }\n",
       "\n",
       "    .dataframe thead th {\n",
       "        text-align: right;\n",
       "    }\n",
       "</style>\n",
       "<table border=\"1\" class=\"dataframe\">\n",
       "  <thead>\n",
       "    <tr style=\"text-align: right;\">\n",
       "      <th></th>\n",
       "      <th>source</th>\n",
       "      <th>target</th>\n",
       "      <th>cost</th>\n",
       "    </tr>\n",
       "  </thead>\n",
       "  <tbody>\n",
       "    <tr>\n",
       "      <th>0</th>\n",
       "      <td>1</td>\n",
       "      <td>2</td>\n",
       "      <td>6808</td>\n",
       "    </tr>\n",
       "    <tr>\n",
       "      <th>1</th>\n",
       "      <td>1</td>\n",
       "      <td>3</td>\n",
       "      <td>5250</td>\n",
       "    </tr>\n",
       "    <tr>\n",
       "      <th>2</th>\n",
       "      <td>1</td>\n",
       "      <td>4</td>\n",
       "      <td>74</td>\n",
       "    </tr>\n",
       "    <tr>\n",
       "      <th>3</th>\n",
       "      <td>1</td>\n",
       "      <td>5</td>\n",
       "      <td>3659</td>\n",
       "    </tr>\n",
       "    <tr>\n",
       "      <th>4</th>\n",
       "      <td>1</td>\n",
       "      <td>6</td>\n",
       "      <td>8931</td>\n",
       "    </tr>\n",
       "  </tbody>\n",
       "</table>\n",
       "</div>"
      ],
      "text/plain": [
       "   source  target  cost\n",
       "0       1       2  6808\n",
       "1       1       3  5250\n",
       "2       1       4    74\n",
       "3       1       5  3659\n",
       "4       1       6  8931"
      ]
     },
     "execution_count": 49,
     "metadata": {},
     "output_type": "execute_result"
    }
   ],
   "source": [
    "import pandas as pd\n",
    "\n",
    "costs = []\n",
    "in_edges = []\n",
    "out_edges = []\n",
    "for line in data.split('\\n')[1:]:\n",
    "    in_edges.append(int(line.split()[0]))\n",
    "    out_edges.append(int(line.split()[1]))\n",
    "    costs.append(int(line.split()[2]))\n",
    "\n",
    "\n",
    "df = pd.DataFrame({\"source\": in_edges, \"target\": out_edges, \"cost\": costs})\n",
    "df.head()"
   ]
  },
  {
   "cell_type": "markdown",
   "metadata": {},
   "source": [
    "## Display graph plot"
   ]
  },
  {
   "cell_type": "code",
   "execution_count": 27,
   "metadata": {
    "colab": {},
    "colab_type": "code",
    "id": "6xPM5i7CcMFs"
   },
   "outputs": [
    {
     "name": "stderr",
     "output_type": "stream",
     "text": [
      "/Users/nicolas/anaconda3/lib/python3.6/site-packages/networkx/drawing/nx_pylab.py:611: MatplotlibDeprecationWarning: isinstance(..., numbers.Number)\n",
      "  if cb.is_numlike(alpha):\n"
     ]
    },
    {
     "data": {
      "image/png": "[encoded data removed]",
      "text/plain": [
       "<Figure size 432x288 with 1 Axes>"
      ]
     },
     "metadata": {},
     "output_type": "display_data"
    }
   ],
   "source": [
    "import matplotlib as mpl\n",
    "import matplotlib.pyplot as plt\n",
    "import networkx as nx\n",
    "\n",
    "\n",
    "def plot_graph(df, directed=False):\n",
    "    graph_engine = nx.DiGraph() if directed else None\n",
    "    G = nx.from_pandas_edgelist(df, source='source', target='target', edge_attr=True, create_using=graph_engine)\n",
    "    costs = G.edges.data('cost')\n",
    "\n",
    "    pos = nx.layout.spring_layout(G, random_state=42)\n",
    "    pos_labels = nx.layout.spring_layout(G, center=(0.05,0.05), random_state=42)\n",
    "\n",
    "    node_sizes = [10 for i in range(len(G))]\n",
    "    M = G.number_of_edges()\n",
    "    edge_colors = [x[2] for x in G.edges.data('cost')]\n",
    "\n",
    "\n",
    "    nodes = nx.draw_networkx_nodes(G, pos, node_size=node_sizes, node_color='blue')\n",
    "    labels = nx.draw_networkx_labels(G, pos=pos_labels)\n",
    "    edges = nx.draw_networkx_edges(G, pos, node_size=node_sizes, arrowstyle='->',\n",
    "                                   arrowsize=10, edge_color=edge_colors,\n",
    "                                   edge_vmin=0., edge_cmap=plt.cm.Blues, width=2)\n",
    "\n",
    "    # set alpha value for each edge\n",
    "    if directed:\n",
    "        edge_alphas = [0.5 for i in range(M)]\n",
    "        for i in range(M):\n",
    "            edges[i].set_alpha(edge_alphas[i])\n",
    "\n",
    "        pc = mpl.collections.PatchCollection(edges, cmap=plt.cm.Blues)\n",
    "        pc.set_array(edge_colors)\n",
    "        plt.colorbar(pc)\n",
    "\n",
    "    ax = plt.gca()\n",
    "    ax.set_axis_off()\n",
    "    plt.show()\n",
    "    \n",
    "df = pd.DataFrame({\"source\": [1, 2, 3], \"target\": [2, 3, 1], \"cost\": [4, 5, 6]})\n",
    "plot_graph(df)"
   ]
  },
  {
   "cell_type": "markdown",
   "metadata": {},
   "source": [
    "## Compute 4-clusters clustering"
   ]
  },
  {
   "cell_type": "code",
   "execution_count": 52,
   "metadata": {},
   "outputs": [],
   "source": [
    "from copy import deepcopy\n",
    "\n",
    "# df = pd.DataFrame({\"source\": [1, 2, 3, 4, 4], \"target\": [2, 3, 1, 1, 3], \"cost\": [4, 5, 6, 7, 8]})\n",
    "\n",
    "n_nodes = len(df)\n",
    "K = 4  # Desired number of clusters\n",
    "\n",
    "# Relabel nodes\n",
    "df['source'] = df['source'] - 1\n",
    "df['target'] = df['target'] - 1\n",
    "\n",
    "df_remaining = deepcopy(df)\n",
    "# df_remaining['inter_cluster'] = False\n",
    "\n",
    "# assigned_clusters = pd.Series(range(n_nodes))\n",
    "# clusters_mapper = {k: k for k in range(n_nodes)}"
   ]
  },
  {
   "cell_type": "code",
   "execution_count": 53,
   "metadata": {},
   "outputs": [
    {
     "name": "stdout",
     "output_type": "stream",
     "text": [
      "Number of remaining edges: 124592\n",
      "8.077739953994751\n",
      "----------------------------------------\n",
      "Number of remaining edges: 124019\n",
      "16.105456829071045\n",
      "----------------------------------------\n",
      "Number of remaining edges: 116118\n",
      "24.08658719062805\n",
      "----------------------------------------\n",
      "Number of remaining edges: 56439\n",
      "31.975100994110107\n",
      "----------------------------------------\n",
      "Maximum spacing: 106\n"
     ]
    }
   ],
   "source": [
    "from time import time\n",
    "\n",
    "t0 = time()\n",
    "\n",
    "i = 0\n",
    "while len(set(df_remaining['target'].unique()) | set(df_remaining['source'].unique())) > K:\n",
    "    i += 1\n",
    "    if i % 100 == 0:\n",
    "        print(\"Number of remaining edges: {}\".format(len(df_remaining)))\n",
    "        print(time() - t0)\n",
    "        print('-'*40)\n",
    "    min_row = df_remaining.loc[df_remaining['cost'].idxmin()]\n",
    "    source = min_row['source']\n",
    "    target = min_row['target']\n",
    "\n",
    "    df_remaining['target'].replace(source, target, inplace=True)\n",
    "    df_remaining['source'].replace(source, target, inplace=True)\n",
    "    df_remaining = df_remaining[df_remaining['target'] != df_remaining['source']]\n",
    "    \n",
    "print(\"Maximum spacing: {}\".format(df_remaining[\"cost\"].min()))"
   ]
  },
  {
   "cell_type": "code",
   "execution_count": 41,
   "metadata": {},
   "outputs": [
    {
     "ename": "KeyboardInterrupt",
     "evalue": "",
     "output_type": "error",
     "traceback": [
      "\u001b[0;31m---------------------------------------------------------------------------\u001b[0m",
      "\u001b[0;31mKeyboardInterrupt\u001b[0m                         Traceback (most recent call last)",
      "\u001b[0;32m<ipython-input-41-dea41e9396b8>\u001b[0m in \u001b[0;36m<module>\u001b[0;34m()\u001b[0m\n\u001b[1;32m     27\u001b[0m \u001b[0;31m#     print(time() - t0)\u001b[0m\u001b[0;34m\u001b[0m\u001b[0;34m\u001b[0m\u001b[0m\n\u001b[1;32m     28\u001b[0m \u001b[0;31m#     df_remaining = df_remaining[source_clusters_series != target_clusters_series]\u001b[0m\u001b[0;34m\u001b[0m\u001b[0;34m\u001b[0m\u001b[0m\n\u001b[0;32m---> 29\u001b[0;31m     \u001b[0mdf_remaining\u001b[0m \u001b[0;34m=\u001b[0m \u001b[0mdf_remaining\u001b[0m\u001b[0;34m[\u001b[0m\u001b[0mdf_remaining\u001b[0m\u001b[0;34m[\u001b[0m\u001b[0;34m'source'\u001b[0m\u001b[0;34m]\u001b[0m \u001b[0;34m==\u001b[0m \u001b[0mtarget_cluster\u001b[0m\u001b[0;34m]\u001b[0m\u001b[0;34m\u001b[0m\u001b[0m\n\u001b[0m\u001b[1;32m     30\u001b[0m \u001b[0;34m\u001b[0m\u001b[0m\n\u001b[1;32m     31\u001b[0m \u001b[0;34m\u001b[0m\u001b[0m\n",
      "\u001b[0;32m~/anaconda3/lib/python3.6/site-packages/pandas/core/frame.py\u001b[0m in \u001b[0;36m__getitem__\u001b[0;34m(self, key)\u001b[0m\n\u001b[1;32m   2677\u001b[0m         \u001b[0;32mif\u001b[0m \u001b[0misinstance\u001b[0m\u001b[0;34m(\u001b[0m\u001b[0mkey\u001b[0m\u001b[0;34m,\u001b[0m \u001b[0;34m(\u001b[0m\u001b[0mSeries\u001b[0m\u001b[0;34m,\u001b[0m \u001b[0mnp\u001b[0m\u001b[0;34m.\u001b[0m\u001b[0mndarray\u001b[0m\u001b[0;34m,\u001b[0m \u001b[0mIndex\u001b[0m\u001b[0;34m,\u001b[0m \u001b[0mlist\u001b[0m\u001b[0;34m)\u001b[0m\u001b[0;34m)\u001b[0m\u001b[0;34m:\u001b[0m\u001b[0;34m\u001b[0m\u001b[0m\n\u001b[1;32m   2678\u001b[0m             \u001b[0;31m# either boolean or fancy integer index\u001b[0m\u001b[0;34m\u001b[0m\u001b[0;34m\u001b[0m\u001b[0m\n\u001b[0;32m-> 2679\u001b[0;31m             \u001b[0;32mreturn\u001b[0m \u001b[0mself\u001b[0m\u001b[0;34m.\u001b[0m\u001b[0m_getitem_array\u001b[0m\u001b[0;34m(\u001b[0m\u001b[0mkey\u001b[0m\u001b[0;34m)\u001b[0m\u001b[0;34m\u001b[0m\u001b[0m\n\u001b[0m\u001b[1;32m   2680\u001b[0m         \u001b[0;32melif\u001b[0m \u001b[0misinstance\u001b[0m\u001b[0;34m(\u001b[0m\u001b[0mkey\u001b[0m\u001b[0;34m,\u001b[0m \u001b[0mDataFrame\u001b[0m\u001b[0;34m)\u001b[0m\u001b[0;34m:\u001b[0m\u001b[0;34m\u001b[0m\u001b[0m\n\u001b[1;32m   2681\u001b[0m             \u001b[0;32mreturn\u001b[0m \u001b[0mself\u001b[0m\u001b[0;34m.\u001b[0m\u001b[0m_getitem_frame\u001b[0m\u001b[0;34m(\u001b[0m\u001b[0mkey\u001b[0m\u001b[0;34m)\u001b[0m\u001b[0;34m\u001b[0m\u001b[0m\n",
      "\u001b[0;32m~/anaconda3/lib/python3.6/site-packages/pandas/core/frame.py\u001b[0m in \u001b[0;36m_getitem_array\u001b[0;34m(self, key)\u001b[0m\n\u001b[1;32m   2719\u001b[0m             \u001b[0mkey\u001b[0m \u001b[0;34m=\u001b[0m \u001b[0mcheck_bool_indexer\u001b[0m\u001b[0;34m(\u001b[0m\u001b[0mself\u001b[0m\u001b[0;34m.\u001b[0m\u001b[0mindex\u001b[0m\u001b[0;34m,\u001b[0m \u001b[0mkey\u001b[0m\u001b[0;34m)\u001b[0m\u001b[0;34m\u001b[0m\u001b[0m\n\u001b[1;32m   2720\u001b[0m             \u001b[0mindexer\u001b[0m \u001b[0;34m=\u001b[0m \u001b[0mkey\u001b[0m\u001b[0;34m.\u001b[0m\u001b[0mnonzero\u001b[0m\u001b[0;34m(\u001b[0m\u001b[0;34m)\u001b[0m\u001b[0;34m[\u001b[0m\u001b[0;36m0\u001b[0m\u001b[0;34m]\u001b[0m\u001b[0;34m\u001b[0m\u001b[0m\n\u001b[0;32m-> 2721\u001b[0;31m             \u001b[0;32mreturn\u001b[0m \u001b[0mself\u001b[0m\u001b[0;34m.\u001b[0m\u001b[0m_take\u001b[0m\u001b[0;34m(\u001b[0m\u001b[0mindexer\u001b[0m\u001b[0;34m,\u001b[0m \u001b[0maxis\u001b[0m\u001b[0;34m=\u001b[0m\u001b[0;36m0\u001b[0m\u001b[0;34m)\u001b[0m\u001b[0;34m\u001b[0m\u001b[0m\n\u001b[0m\u001b[1;32m   2722\u001b[0m         \u001b[0;32melse\u001b[0m\u001b[0;34m:\u001b[0m\u001b[0;34m\u001b[0m\u001b[0m\n\u001b[1;32m   2723\u001b[0m             \u001b[0mindexer\u001b[0m \u001b[0;34m=\u001b[0m \u001b[0mself\u001b[0m\u001b[0;34m.\u001b[0m\u001b[0mloc\u001b[0m\u001b[0;34m.\u001b[0m\u001b[0m_convert_to_indexer\u001b[0m\u001b[0;34m(\u001b[0m\u001b[0mkey\u001b[0m\u001b[0;34m,\u001b[0m \u001b[0maxis\u001b[0m\u001b[0;34m=\u001b[0m\u001b[0;36m1\u001b[0m\u001b[0;34m)\u001b[0m\u001b[0;34m\u001b[0m\u001b[0m\n",
      "\u001b[0;32m~/anaconda3/lib/python3.6/site-packages/pandas/core/generic.py\u001b[0m in \u001b[0;36m_take\u001b[0;34m(self, indices, axis, is_copy)\u001b[0m\n\u001b[1;32m   2785\u001b[0m                                    \u001b[0maxis\u001b[0m\u001b[0;34m=\u001b[0m\u001b[0mself\u001b[0m\u001b[0;34m.\u001b[0m\u001b[0m_get_block_manager_axis\u001b[0m\u001b[0;34m(\u001b[0m\u001b[0maxis\u001b[0m\u001b[0;34m)\u001b[0m\u001b[0;34m,\u001b[0m\u001b[0;34m\u001b[0m\u001b[0m\n\u001b[1;32m   2786\u001b[0m                                    verify=True)\n\u001b[0;32m-> 2787\u001b[0;31m         \u001b[0mresult\u001b[0m \u001b[0;34m=\u001b[0m \u001b[0mself\u001b[0m\u001b[0;34m.\u001b[0m\u001b[0m_constructor\u001b[0m\u001b[0;34m(\u001b[0m\u001b[0mnew_data\u001b[0m\u001b[0;34m)\u001b[0m\u001b[0;34m.\u001b[0m\u001b[0m__finalize__\u001b[0m\u001b[0;34m(\u001b[0m\u001b[0mself\u001b[0m\u001b[0;34m)\u001b[0m\u001b[0;34m\u001b[0m\u001b[0m\n\u001b[0m\u001b[1;32m   2788\u001b[0m \u001b[0;34m\u001b[0m\u001b[0m\n\u001b[1;32m   2789\u001b[0m         \u001b[0;31m# Maybe set copy if we didn't actually change the index.\u001b[0m\u001b[0;34m\u001b[0m\u001b[0;34m\u001b[0m\u001b[0m\n",
      "\u001b[0;32m~/anaconda3/lib/python3.6/site-packages/pandas/core/frame.py\u001b[0m in \u001b[0;36m_constructor\u001b[0;34m(self)\u001b[0m\n\u001b[1;32m    320\u001b[0m     \u001b[0;34m@\u001b[0m\u001b[0mproperty\u001b[0m\u001b[0;34m\u001b[0m\u001b[0m\n\u001b[1;32m    321\u001b[0m     \u001b[0;32mdef\u001b[0m \u001b[0m_constructor\u001b[0m\u001b[0;34m(\u001b[0m\u001b[0mself\u001b[0m\u001b[0;34m)\u001b[0m\u001b[0;34m:\u001b[0m\u001b[0;34m\u001b[0m\u001b[0m\n\u001b[0;32m--> 322\u001b[0;31m         \u001b[0;32mreturn\u001b[0m \u001b[0mDataFrame\u001b[0m\u001b[0;34m\u001b[0m\u001b[0m\n\u001b[0m\u001b[1;32m    323\u001b[0m \u001b[0;34m\u001b[0m\u001b[0m\n\u001b[1;32m    324\u001b[0m     \u001b[0m_constructor_sliced\u001b[0m \u001b[0;34m=\u001b[0m \u001b[0mSeries\u001b[0m\u001b[0;34m\u001b[0m\u001b[0m\n",
      "\u001b[0;31mKeyboardInterrupt\u001b[0m: "
     ]
    }
   ],
   "source": [
    "from time import time\n",
    "\n",
    "t0 = time()\n",
    "\n",
    "i = 0\n",
    "while assigned_clusters.nunique() > 2:\n",
    "    i += 1\n",
    "    if i % 10000 == 0:\n",
    "        print(\"Number of remaining edges: {}\".format(len(df_remaining)))\n",
    "        print(time() - t0)\n",
    "        print('-'*40)\n",
    "    # 1) find one minimum cost edge among inter-cluster edges (breaking ties arbitrarily)\n",
    "    min_row = df.loc[df['cost'].idxmin()]\n",
    "    \n",
    "    source_cluster = int(assigned_clusters[min_row['source']])\n",
    "    target_cluster = int(assigned_clusters[min_row['target']])\n",
    "    \n",
    "    source_cluster_mask = (df['source'] == source_cluster)\n",
    "    assigned_clusters[source_cluster_mask] = target_cluster\n",
    "    \n",
    "    # 2) remove intra-cluster edges \n",
    "#     print(time() - t0)\n",
    "#     clusters_mapper = {k: assigned_clusters[k] for k in range(n_nodes)}\n",
    "#     print(time() - t0)\n",
    "#     source_clusters_series = df_remaining[\"source\"].map(clusters_mapper)\n",
    "#     target_clusters_series = df_remaining[\"target\"].map(clusters_mapper)\n",
    "#     print(time() - t0)\n",
    "#     df_remaining = df_remaining[source_clusters_series != target_clusters_series]\n",
    "    df_remaining = df_remaining[df_remaining['source'] == target_cluster]\n",
    "\n",
    "\n",
    "print(\"Maximum spacing: {}\".format(df_remaining[\"cost\"].min()))"
   ]
  },
  {
   "cell_type": "code",
   "execution_count": null,
   "metadata": {},
   "outputs": [],
   "source": []
  }
 ],
 "metadata": {
  "colab": {
   "collapsed_sections": [],
   "name": "Algorithms - Course 3 - Week 2 - Clustering.ipynb",
   "provenance": [
    {
     "file_id": "1RTTUnbUhP__AGHQrexQGHsZWL7ak_3Ls",
     "timestamp": 1554650830866
    }
   ],
   "version": "0.3.2"
  },
  "kernelspec": {
   "display_name": "Python 3",
   "language": "python",
   "name": "python3"
  },
  "language_info": {
   "codemirror_mode": {
    "name": "ipython",
    "version": 3
   },
   "file_extension": ".py",
   "mimetype": "text/x-python",
   "name": "python",
   "nbconvert_exporter": "python",
   "pygments_lexer": "ipython3",
   "version": "3.6.5"
  }
 },
 "nbformat": 4,
 "nbformat_minor": 1
}
