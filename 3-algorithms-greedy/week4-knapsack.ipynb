{
 "cells": [
  {
   "cell_type": "markdown",
   "metadata": {
    "colab_type": "text",
    "id": "U4UFXWcuG2XH"
   },
   "source": [
    "#  Exercise 1:  Knapsack small\n",
    "\n",
    "https://www.coursera.org/learn/algorithms-greedy/exam/rCrms/programming-assignment-4"
   ]
  },
  {
   "cell_type": "code",
   "execution_count": 1,
   "metadata": {},
   "outputs": [],
   "source": [
    "import numpy as np\n",
    "\n",
    "knapsack_file = open('./knapsack_big.txt', 'r')\n",
    "data = knapsack_file.read()\n",
    "\n",
    "values = [int(x.split()[0]) for x in data.split('\\n')[1:-1]]\n",
    "weights = [int(x.split()[1]) for x in data.split('\\n')[1:-1]]\n",
    "\n",
    "n_items = len(values)\n",
    "size = int(data.split('\\n')[0].split()[0])"
   ]
  },
  {
   "cell_type": "code",
   "execution_count": 141,
   "metadata": {},
   "outputs": [
    {
     "name": "stdout",
     "output_type": "stream",
     "text": [
      "CPU times: user 667 ms, sys: 3.16 ms, total: 670 ms\n",
      "Wall time: 670 ms\n"
     ]
    }
   ],
   "source": [
    "%%time\n",
    "mem_last_item = np.zeros(size+1)\n",
    "\n",
    "for i in range(len(values)):\n",
    "    current_weight = weights[i]\n",
    "    current_value = values[i]\n",
    "    new_values = np.copy(mem_last_item)\n",
    "    for x in range(current_weight+1, size+1):\n",
    "        new_values[x] = max(mem_last_item[x], mem_last_item[x-current_weight] + current_value)\n",
    "    mem_last_item = new_values\n",
    "#     if i == 10:\n",
    "#         break"
   ]
  },
  {
   "cell_type": "code",
   "execution_count": 142,
   "metadata": {},
   "outputs": [
    {
     "data": {
      "text/plain": [
       "2493893.0"
      ]
     },
     "execution_count": 142,
     "metadata": {},
     "output_type": "execute_result"
    }
   ],
   "source": [
    "# 1) compute value of the optimal objects choice\n",
    "# Answer to first assessment should be 2493893\n",
    "int(mem_last_item[-1])"
   ]
  },
  {
   "cell_type": "markdown",
   "metadata": {},
   "source": [
    "# Exercise 2: recursive knapsack"
   ]
  },
  {
   "cell_type": "code",
   "execution_count": 3,
   "metadata": {},
   "outputs": [
    {
     "data": {
      "text/plain": [
       "4243395"
      ]
     },
     "execution_count": 3,
     "metadata": {},
     "output_type": "execute_result"
    }
   ],
   "source": [
    "A = dict()\n",
    "\n",
    "def recursive_knapsack(i, j):\n",
    "    if (str(i)+','+str(j)) in A: \n",
    "        return A[str(i)+','+str(j)] \n",
    "    if i == 0:\n",
    "        return 0\n",
    "    v = values[i]\n",
    "    w = weights[i]\n",
    "    if j < w:\n",
    "        result = recursive_knapsack(i-1, j)\n",
    "    else: \n",
    "        result = max(recursive_knapsack(i-1, j), recursive_knapsack(i-1, j-w) + v)\n",
    "    A[str(i)+','+str(j)] = result\n",
    "    return result\n",
    "\n",
    "recursive_knapsack(n_items-1, size-1)  # Output should be 4243395"
   ]
  }
 ],
 "metadata": {
  "colab": {
   "collapsed_sections": [],
   "name": "Algorithms - Course 3 - Week 2 - Clustering.ipynb",
   "provenance": [
    {
     "file_id": "1RTTUnbUhP__AGHQrexQGHsZWL7ak_3Ls",
     "timestamp": 1554650830866
    }
   ],
   "version": "0.3.2"
  },
  "kernelspec": {
   "display_name": "Python 3",
   "language": "python",
   "name": "python3"
  },
  "language_info": {
   "codemirror_mode": {
    "name": "ipython",
    "version": 3
   },
   "file_extension": ".py",
   "mimetype": "text/x-python",
   "name": "python",
   "nbconvert_exporter": "python",
   "pygments_lexer": "ipython3",
   "version": "3.6.5"
  }
 },
 "nbformat": 4,
 "nbformat_minor": 1
}
