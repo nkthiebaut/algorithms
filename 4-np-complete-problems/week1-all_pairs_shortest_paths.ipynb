{
 "cells": [
  {
   "cell_type": "markdown",
   "metadata": {},
   "source": [
    "# Algorithms 4 week 1: All pairs shortest paths\n",
    "https://www.coursera.org/learn/algorithms-npcomplete/exam/cnDtw/programming-assignment-1/attempt"
   ]
  },
  {
   "cell_type": "code",
   "execution_count": 3,
   "metadata": {},
   "outputs": [],
   "source": [
    "# Colab version\n",
    "# from google.colab import files\n",
    "# uploaded = files.upload()\n",
    "# data = uploaded['clustering.txt'].decode('ascii')\n",
    "\n",
    "uploaded_edges = open('./g1.txt', 'r')\n",
    "data = uploaded_edges.read()"
   ]
  },
  {
   "cell_type": "code",
   "execution_count": 25,
   "metadata": {},
   "outputs": [
    {
     "data": {
      "text/html": [
       "<div>\n",
       "<style scoped>\n",
       "    .dataframe tbody tr th:only-of-type {\n",
       "        vertical-align: middle;\n",
       "    }\n",
       "\n",
       "    .dataframe tbody tr th {\n",
       "        vertical-align: top;\n",
       "    }\n",
       "\n",
       "    .dataframe thead th {\n",
       "        text-align: right;\n",
       "    }\n",
       "</style>\n",
       "<table border=\"1\" class=\"dataframe\">\n",
       "  <thead>\n",
       "    <tr style=\"text-align: right;\">\n",
       "      <th></th>\n",
       "      <th>source</th>\n",
       "      <th>target</th>\n",
       "      <th>cost</th>\n",
       "    </tr>\n",
       "  </thead>\n",
       "  <tbody>\n",
       "    <tr>\n",
       "      <th>0</th>\n",
       "      <td>0</td>\n",
       "      <td>13</td>\n",
       "      <td>6</td>\n",
       "    </tr>\n",
       "    <tr>\n",
       "      <th>1</th>\n",
       "      <td>0</td>\n",
       "      <td>24</td>\n",
       "      <td>47</td>\n",
       "    </tr>\n",
       "    <tr>\n",
       "      <th>2</th>\n",
       "      <td>0</td>\n",
       "      <td>69</td>\n",
       "      <td>22</td>\n",
       "    </tr>\n",
       "    <tr>\n",
       "      <th>3</th>\n",
       "      <td>0</td>\n",
       "      <td>81</td>\n",
       "      <td>31</td>\n",
       "    </tr>\n",
       "    <tr>\n",
       "      <th>4</th>\n",
       "      <td>0</td>\n",
       "      <td>97</td>\n",
       "      <td>17</td>\n",
       "    </tr>\n",
       "  </tbody>\n",
       "</table>\n",
       "</div>"
      ],
      "text/plain": [
       "   source  target  cost\n",
       "0       0      13     6\n",
       "1       0      24    47\n",
       "2       0      69    22\n",
       "3       0      81    31\n",
       "4       0      97    17"
      ]
     },
     "execution_count": 25,
     "metadata": {},
     "output_type": "execute_result"
    }
   ],
   "source": [
    "import pandas as pd\n",
    "\n",
    "n = int(data.split('\\n')[0].split()[0])\n",
    "m = int(data.split('\\n')[0].split()[1])\n",
    "\n",
    "costs = []\n",
    "in_edges = []\n",
    "out_edges = []\n",
    "for line in data.split('\\n')[1:-1]:\n",
    "    in_edges.append(int(line.split()[0])-1)\n",
    "    out_edges.append(int(line.split()[1])-1)\n",
    "    costs.append(int(line.split()[2]))\n",
    "\n",
    "\n",
    "df = pd.DataFrame({\"source\": in_edges, \"target\": out_edges, \"cost\": costs})\n",
    "\n",
    "assert len(df['source'].unique()) == n\n",
    "assert len(df) == m\n",
    "\n",
    "df.head()"
   ]
  },
  {
   "cell_type": "code",
   "execution_count": 27,
   "metadata": {},
   "outputs": [],
   "source": [
    "import numpy as np\n",
    "\n",
    "# Initialization\n",
    "# A[i, j, 0] = 0 if i=j, cost(i, j) if (i, j) in E, infinity otherwise\n",
    "A = np.full([n, n, n], np.infty)\n",
    "\n",
    "for i in range(n):\n",
    "    A[i, i, 0] = 0\n",
    "    \n",
    "for _, r in df.iterrows():\n",
    "    A[r[\"source\"], r[\"target\"], 0] = r[\"cost\"]"
   ]
  },
  {
   "cell_type": "code",
   "execution_count": null,
   "metadata": {},
   "outputs": [],
   "source": [
    "%%time\n",
    "\n",
    "# Loop\n",
    "for k in range(n):\n",
    "    for i in range(n):\n",
    "        for j in range(n):\n",
    "            A[i, j, k] = min(A[i, j, k-1], A[i, k, k-1]+A[k, j, k-1])"
   ]
  },
  {
   "cell_type": "code",
   "execution_count": null,
   "metadata": {},
   "outputs": [],
   "source": [
    "end_diagonal = np.diagonal(A[:, :, n-1])\n",
    "assert end_diagonal.shape == (n,)"
   ]
  },
  {
   "cell_type": "code",
   "execution_count": null,
   "metadata": {},
   "outputs": [],
   "source": [
    "# Check for negative-cost loop\n",
    "negative_loop = min(end_diagonal) < 0 \n",
    "if negative_loop:\n",
    "    print(\"Negative-cost loop!\")\n",
    "else:\n",
    "    print(f\"Shortest shortest path length={min(A[:, :, n-1])}\")"
   ]
  }
 ],
 "metadata": {
  "kernelspec": {
   "display_name": "Python 3",
   "language": "python",
   "name": "python3"
  },
  "language_info": {
   "codemirror_mode": {
    "name": "ipython",
    "version": 3
   },
   "file_extension": ".py",
   "mimetype": "text/x-python",
   "name": "python",
   "nbconvert_exporter": "python",
   "pygments_lexer": "ipython3",
   "version": "3.7.3"
  }
 },
 "nbformat": 4,
 "nbformat_minor": 2
}
